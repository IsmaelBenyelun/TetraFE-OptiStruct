{
 "cells": [
  {
   "cell_type": "code",
   "execution_count": null,
   "metadata": {},
   "outputs": [],
   "source": [
    "push!(LOAD_PATH, pwd())\n",
    "using Mesh\n",
    "using ParaView\n",
    "using MyStructs\n",
    "using WriteUtils\n",
    "using OptiStruct\n",
    "\n",
    "## Define global properties\n",
    "DOF_PER_NODE = 3\n",
    "E = 200.0e3 # MPa\n",
    "ν = 0.33\n",
    "F = 1.e3 # N\n",
    "MATERIAL = Isotropic(E, ν)"
   ]
  },
  {
   "cell_type": "markdown",
   "metadata": {},
   "source": [
    "## MESH -- cubic domain with tetrahedral elements"
   ]
  },
  {
   "cell_type": "code",
   "execution_count": null,
   "metadata": {},
   "outputs": [],
   "source": [
    "### MESH -- cubic domain with tetrahedral elements\n",
    "ELEM_TYPE = Tetra4()\n",
    "elems_per_dim = [1, 1, 1]\n",
    "sizes = [100., 100., 100.] # X, Y, Z\n",
    "\n",
    "n_nodes, n_elems, v_nodes, v_mesh, mechanical_mesh = MeshBuildTetra(sizes, elems_per_dim, E, ν)\n",
    "n_dofs = DOF_PER_NODE * n_nodes\n",
    "\n",
    "# Save in .vtu format\n",
    "if !isdir(\"paraview-output\")\n",
    "    mkdir(\"paraview-output\")\n",
    "end\n",
    "PrintParaview(v_nodes, v_mesh, \"./paraview-output/mesh.vtu\")"
   ]
  },
  {
   "cell_type": "markdown",
   "metadata": {},
   "source": [
    "## BOUNDARY CONDITIONS -- Hard-coded on purpose"
   ]
  },
  {
   "cell_type": "code",
   "execution_count": null,
   "metadata": {},
   "outputs": [],
   "source": [
    "## BOUNDARY CONDITIONS -- Hard-coded on purpose\n",
    "force_nodes = [2, 4, 6, 8]\n",
    "# force_nodes = [89, 95, 125, 131] .+ 1\n",
    "force_dofs = force_nodes .* 3\n",
    "\n",
    "restricted_nodes = [1, 3, 5, 7]\n",
    "# restricted_nodes = [0, 6, 12, 18, 24, 30, 36, 66, 72, 102, 108, 138, 144, 174, 180, 186, 192, 198, 204, 210] .+ 1\n",
    "restricted_dofs = reduce(vcat, [[i*3 - 2, i*3 - 1, 3*i] for i in restricted_nodes])\n",
    "\n",
    "u = zeros(n_dofs)\n",
    "f = zeros(n_dofs)\n",
    "f[force_dofs] .= F;"
   ]
  },
  {
   "cell_type": "markdown",
   "metadata": {},
   "source": [
    "## OPTISTRUCT INTERFACE -- check `solver_path` variable\n"
   ]
  },
  {
   "cell_type": "code",
   "execution_count": null,
   "metadata": {},
   "outputs": [],
   "source": [
    "## OPTISTRUCT INTERFACE\n",
    "SOLVER = \"OPTISTRUCT\"\n",
    "solver_path = \"D:\\\\Altair\\\\2021.2\\\\hwsolvers\\\\scripts\\\\optistruct.bat\" # Absolute path to OptiStruct's executable file (optistruct.bat)\n",
    "# Create .fem file\n",
    "fileName = write_input_file(SOLVER, ELEM_TYPE, MATERIAL, v_nodes, v_mesh, mechanical_mesh, DOF_PER_NODE, u, f, restricted_dofs, force_dofs)\n",
    "# Run .exe\n",
    "u, ε_el, σ_el, ip_ID = optistruct(fileName, solver_path, DOF_PER_NODE)"
   ]
  },
  {
   "cell_type": "markdown",
   "metadata": {},
   "source": [
    "## SAVE PARAVIEW FILE"
   ]
  },
  {
   "cell_type": "code",
   "execution_count": null,
   "metadata": {},
   "outputs": [],
   "source": [
    "## SAVE PARAVIEW FILE\n",
    "PrintParaview(v_nodes, v_mesh, ε_el, σ_el, u, \"./paraview-output/3d_tetra.vtu\")"
   ]
  }
 ],
 "metadata": {
  "kernelspec": {
   "display_name": "Julia 1.6.3",
   "language": "julia",
   "name": "julia-1.6"
  },
  "language_info": {
   "file_extension": ".jl",
   "mimetype": "application/julia",
   "name": "julia",
   "version": "1.6.3"
  }
 },
 "nbformat": 4,
 "nbformat_minor": 2
}
